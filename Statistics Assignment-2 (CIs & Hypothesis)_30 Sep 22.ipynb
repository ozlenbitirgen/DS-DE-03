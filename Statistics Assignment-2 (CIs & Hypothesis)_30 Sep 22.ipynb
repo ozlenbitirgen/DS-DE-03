{
 "cells": [
  {
   "cell_type": "markdown",
   "id": "24cf05a7",
   "metadata": {},
   "source": [
    "## CONFIDENCE INTERVALS\n",
    "\n",
    "EXERCISE 1. What is the normal body temperature for healthy humans? A random sample of 130 healthy human body temperatures provided by Allen Shoemaker yielded 98.25 degrees and standard deviation 0.73 degrees. \n",
    "\n",
    "Give a 99% confidence interval for the average body temperature of healthy people."
   ]
  },
  {
   "cell_type": "code",
   "execution_count": 43,
   "id": "b4a3ad4f",
   "metadata": {},
   "outputs": [],
   "source": [
    "import numpy as np\n",
    "from scipy import stats\n",
    "import matplotlib.pyplot as plt\n",
    "import seaborn as sns\n",
    "import pandas as pd"
   ]
  },
  {
   "cell_type": "code",
   "execution_count": 44,
   "id": "767cc8da",
   "metadata": {},
   "outputs": [
    {
     "data": {
      "text/plain": [
       "0.06402523540941313"
      ]
     },
     "execution_count": 44,
     "metadata": {},
     "output_type": "execute_result"
    }
   ],
   "source": [
    "n = 130\n",
    "xbar = 98.25\n",
    "s = 0.73\n",
    "sem = s/np.sqrt(n)\n",
    "sem"
   ]
  },
  {
   "cell_type": "code",
   "execution_count": 45,
   "id": "a38626a4",
   "metadata": {},
   "outputs": [
    {
     "data": {
      "text/plain": [
       "(98.08260738705933, 98.41739261294067)"
      ]
     },
     "execution_count": 45,
     "metadata": {},
     "output_type": "execute_result"
    }
   ],
   "source": [
    "stats.t.interval(0.99, df=n-1, loc=xbar, scale=sem)"
   ]
  },
  {
   "cell_type": "markdown",
   "id": "c369dd51",
   "metadata": {},
   "source": [
    "EXERCISE 2. The administrators for a hospital wished to estimate the average number of days required for inpatient treatment of patients between the ages of 25 and 34. A random sample of 500 hospital patients between these ages produced a mean and standard deviation equal to 5.4 and 3.1 days, respectively.\n",
    "\n",
    "\n",
    "Construct a 95% confidence interval for the mean length of stay for the population of patients from which the sample was drawn."
   ]
  },
  {
   "cell_type": "code",
   "execution_count": 46,
   "id": "6cbe20f7",
   "metadata": {},
   "outputs": [
    {
     "data": {
      "text/plain": [
       "0.13863621460498696"
      ]
     },
     "execution_count": 46,
     "metadata": {},
     "output_type": "execute_result"
    }
   ],
   "source": [
    "n = 500\n",
    "xbar = 5.4\n",
    "s = 3.1\n",
    "sem = s/np.sqrt(n)\n",
    "sem"
   ]
  },
  {
   "cell_type": "code",
   "execution_count": 47,
   "id": "b2357919",
   "metadata": {},
   "outputs": [
    {
     "data": {
      "text/plain": [
       "(5.127617354510309, 5.672382645489692)"
      ]
     },
     "execution_count": 47,
     "metadata": {},
     "output_type": "execute_result"
    }
   ],
   "source": [
    "stats.t.interval(0.95, df=n-1, loc=xbar, scale=sem)"
   ]
  },
  {
   "cell_type": "markdown",
   "id": "fd56c09f",
   "metadata": {},
   "source": [
    "## HYPOTHESIS TESTING\n",
    "\n",
    "EXERCISE 3. The hourly wages in a particular industry are normally distributed with mean $13.20  and standard deviation $2.50. A company in this industry employs 40 workers, paying them an average of $12.20 per hour. Can this company be accused of paying substandard wages? Use an α = .01 level test. (Wackerly, Ex.10.18)\n",
    "\n",
    "CHECK: statistic: -2.5298221281347035, pvalue= 0.005706018193000826"
   ]
  },
  {
   "cell_type": "code",
   "execution_count": 61,
   "id": "1737027f",
   "metadata": {},
   "outputs": [],
   "source": [
    "# H0: mu = 12.2 (This company can be accused of paying substandart wages)\n",
    "# Ha: mu > 12.2 (Company pays fair wages)"
   ]
  },
  {
   "cell_type": "code",
   "execution_count": 62,
   "id": "b9ec223b",
   "metadata": {},
   "outputs": [],
   "source": [
    "n = 40\n",
    "xbar = 13.2\n",
    "sigma = 2.5\n",
    "mu0 = 12.2\n",
    "alpha = 0.01\n",
    "sem = sigma/np.sqrt(n)\n"
   ]
  },
  {
   "cell_type": "markdown",
   "id": "4cde4846",
   "metadata": {},
   "source": [
    "Calculate the test statistic"
   ]
  },
  {
   "cell_type": "code",
   "execution_count": 63,
   "id": "605952b6",
   "metadata": {},
   "outputs": [
    {
     "data": {
      "text/plain": [
       "2.5298221281347035"
      ]
     },
     "execution_count": 63,
     "metadata": {},
     "output_type": "execute_result"
    }
   ],
   "source": [
    "z = (xbar - mu0) / (sigma / np.sqrt(n))\n",
    "z"
   ]
  },
  {
   "cell_type": "code",
   "execution_count": 64,
   "id": "47022545",
   "metadata": {},
   "outputs": [
    {
     "data": {
      "text/plain": [
       "0.005706018193000872"
      ]
     },
     "execution_count": 64,
     "metadata": {},
     "output_type": "execute_result"
    }
   ],
   "source": [
    "p_value = 1 - stats.norm.cdf(z)\n",
    "p_value"
   ]
  },
  {
   "cell_type": "code",
   "execution_count": 65,
   "id": "183c5ce1",
   "metadata": {},
   "outputs": [
    {
     "name": "stdout",
     "output_type": "stream",
     "text": [
      "At 0.01 level of significance, we can reject the null hypothesis in favor of alternative hypothesis.\n"
     ]
    }
   ],
   "source": [
    "if p_value<alpha:\n",
    "    print('At {} level of significance, we can reject the null hypothesis in favor of alternative hypothesis.'.format(alpha))\n",
    "else:\n",
    "    print('At {} level of significance, we fail to reject the null hypothesis.'.format(alpha))"
   ]
  },
  {
   "cell_type": "markdown",
   "id": "dc77dc66",
   "metadata": {},
   "source": [
    "EXERCISE 4.Shear strength measurements derived from unconfined compression tests for two types of soils gave the results shown in the following document (measurements in tons per square foot). Do the soils appear to differ with respect to average shear strength, at the 1% significance level?"
   ]
  },
  {
   "cell_type": "code",
   "execution_count": 135,
   "id": "f0f79be4",
   "metadata": {},
   "outputs": [
    {
     "data": {
      "text/html": [
       "<div>\n",
       "<style scoped>\n",
       "    .dataframe tbody tr th:only-of-type {\n",
       "        vertical-align: middle;\n",
       "    }\n",
       "\n",
       "    .dataframe tbody tr th {\n",
       "        vertical-align: top;\n",
       "    }\n",
       "\n",
       "    .dataframe thead th {\n",
       "        text-align: right;\n",
       "    }\n",
       "</style>\n",
       "<table border=\"1\" class=\"dataframe\">\n",
       "  <thead>\n",
       "    <tr style=\"text-align: right;\">\n",
       "      <th></th>\n",
       "      <th>Soil1</th>\n",
       "      <th>Soil2</th>\n",
       "    </tr>\n",
       "  </thead>\n",
       "  <tbody>\n",
       "    <tr>\n",
       "      <th>0</th>\n",
       "      <td>1.442</td>\n",
       "      <td>1.364</td>\n",
       "    </tr>\n",
       "    <tr>\n",
       "      <th>1</th>\n",
       "      <td>1.943</td>\n",
       "      <td>1.878</td>\n",
       "    </tr>\n",
       "    <tr>\n",
       "      <th>2</th>\n",
       "      <td>1.110</td>\n",
       "      <td>1.337</td>\n",
       "    </tr>\n",
       "    <tr>\n",
       "      <th>3</th>\n",
       "      <td>1.912</td>\n",
       "      <td>1.828</td>\n",
       "    </tr>\n",
       "    <tr>\n",
       "      <th>4</th>\n",
       "      <td>1.553</td>\n",
       "      <td>1.371</td>\n",
       "    </tr>\n",
       "  </tbody>\n",
       "</table>\n",
       "</div>"
      ],
      "text/plain": [
       "   Soil1  Soil2\n",
       "0  1.442  1.364\n",
       "1  1.943  1.878\n",
       "2  1.110  1.337\n",
       "3  1.912  1.828\n",
       "4  1.553  1.371"
      ]
     },
     "execution_count": 135,
     "metadata": {},
     "output_type": "execute_result"
    }
   ],
   "source": [
    "soil = pd.read_excel(\"soil.xlsx\")\n",
    "soil.head()"
   ]
  },
  {
   "cell_type": "code",
   "execution_count": 140,
   "id": "c7fb41d8",
   "metadata": {},
   "outputs": [
    {
     "data": {
      "text/html": [
       "<div>\n",
       "<style scoped>\n",
       "    .dataframe tbody tr th:only-of-type {\n",
       "        vertical-align: middle;\n",
       "    }\n",
       "\n",
       "    .dataframe tbody tr th {\n",
       "        vertical-align: top;\n",
       "    }\n",
       "\n",
       "    .dataframe thead th {\n",
       "        text-align: right;\n",
       "    }\n",
       "</style>\n",
       "<table border=\"1\" class=\"dataframe\">\n",
       "  <thead>\n",
       "    <tr style=\"text-align: right;\">\n",
       "      <th></th>\n",
       "      <th>Soil1</th>\n",
       "      <th>Soil2</th>\n",
       "    </tr>\n",
       "  </thead>\n",
       "  <tbody>\n",
       "    <tr>\n",
       "      <th>count</th>\n",
       "      <td>30.000000</td>\n",
       "      <td>35.000000</td>\n",
       "    </tr>\n",
       "    <tr>\n",
       "      <th>mean</th>\n",
       "      <td>1.691800</td>\n",
       "      <td>1.417114</td>\n",
       "    </tr>\n",
       "    <tr>\n",
       "      <th>std</th>\n",
       "      <td>0.206903</td>\n",
       "      <td>0.219184</td>\n",
       "    </tr>\n",
       "    <tr>\n",
       "      <th>min</th>\n",
       "      <td>1.110000</td>\n",
       "      <td>1.053000</td>\n",
       "    </tr>\n",
       "    <tr>\n",
       "      <th>25%</th>\n",
       "      <td>1.572000</td>\n",
       "      <td>1.231000</td>\n",
       "    </tr>\n",
       "    <tr>\n",
       "      <th>50%</th>\n",
       "      <td>1.675000</td>\n",
       "      <td>1.379000</td>\n",
       "    </tr>\n",
       "    <tr>\n",
       "      <th>75%</th>\n",
       "      <td>1.865250</td>\n",
       "      <td>1.559000</td>\n",
       "    </tr>\n",
       "    <tr>\n",
       "      <th>max</th>\n",
       "      <td>2.054000</td>\n",
       "      <td>1.878000</td>\n",
       "    </tr>\n",
       "  </tbody>\n",
       "</table>\n",
       "</div>"
      ],
      "text/plain": [
       "           Soil1      Soil2\n",
       "count  30.000000  35.000000\n",
       "mean    1.691800   1.417114\n",
       "std     0.206903   0.219184\n",
       "min     1.110000   1.053000\n",
       "25%     1.572000   1.231000\n",
       "50%     1.675000   1.379000\n",
       "75%     1.865250   1.559000\n",
       "max     2.054000   1.878000"
      ]
     },
     "execution_count": 140,
     "metadata": {},
     "output_type": "execute_result"
    }
   ],
   "source": [
    "soil.describe()"
   ]
  },
  {
   "cell_type": "code",
   "execution_count": 142,
   "id": "c0bab162",
   "metadata": {},
   "outputs": [],
   "source": [
    "n1 = 30\n",
    "xbar1 = 1.691800\n",
    "s1 = 0.206903\n",
    "n2 = 35\n",
    "xbar2 = 1.417114\n",
    "s2 = 0.219184"
   ]
  },
  {
   "cell_type": "code",
   "execution_count": 147,
   "id": "bb77cf27",
   "metadata": {},
   "outputs": [
    {
     "data": {
      "text/plain": [
       "Ttest_indResult(statistic=5.168154840453396, pvalue=2.5931556530482923e-06)"
      ]
     },
     "execution_count": 147,
     "metadata": {},
     "output_type": "execute_result"
    }
   ],
   "source": [
    "indTest = stats.ttest_ind_from_stats(mean1=xbar1, std1=s1, nobs1=n1,\n",
    "                           mean2=xbar2, std2=s2, nobs2=n2, equal_var=True, alternative='two-sided')\n",
    "indTest"
   ]
  },
  {
   "cell_type": "code",
   "execution_count": 148,
   "id": "61c147f2",
   "metadata": {},
   "outputs": [
    {
     "data": {
      "text/plain": [
       "2.5931556530482923e-06"
      ]
     },
     "execution_count": 148,
     "metadata": {},
     "output_type": "execute_result"
    }
   ],
   "source": [
    "p_value = indTest.pvalue\n",
    "p_value"
   ]
  },
  {
   "cell_type": "code",
   "execution_count": 149,
   "id": "ee8bf108",
   "metadata": {},
   "outputs": [
    {
     "name": "stdout",
     "output_type": "stream",
     "text": [
      "At 0.01 level of significance, we can reject the null hypothesis in favor of alternative hypothesis.\n"
     ]
    }
   ],
   "source": [
    "alpha = 0.01\n",
    "\n",
    "if p_value<alpha:\n",
    "    print('At {} level of significance, we can reject the null hypothesis in favor of alternative hypothesis.'.format(alpha))\n",
    "else:\n",
    "    print('At {} level of significance, we fail to reject the null hypothesis.'.format(alpha))"
   ]
  },
  {
   "cell_type": "markdown",
   "id": "3ce53c8e",
   "metadata": {},
   "source": [
    "EXERCISE 5. The following dataset is based on data provided by the World Bank (https://datacatalog.worldbank.org/dataset/education-statistics). World Bank Edstats.  2015 PISA Test Dataset\n",
    "\n",
    "Get descriptive statistics (the central tendency, dispersion and shape of a dataset’s distribution) for each continent group (AS, EU, AF, NA, SA, OC).\n",
    "Determine whether there is any difference (on the average) for the math scores among European (EU) and Asian (AS) countries (assume normality and equal variances). Draw side-by-side box plots."
   ]
  },
  {
   "cell_type": "code",
   "execution_count": 150,
   "id": "9c29ed5d",
   "metadata": {},
   "outputs": [
    {
     "data": {
      "text/html": [
       "<div>\n",
       "<style scoped>\n",
       "    .dataframe tbody tr th:only-of-type {\n",
       "        vertical-align: middle;\n",
       "    }\n",
       "\n",
       "    .dataframe tbody tr th {\n",
       "        vertical-align: top;\n",
       "    }\n",
       "\n",
       "    .dataframe thead th {\n",
       "        text-align: right;\n",
       "    }\n",
       "</style>\n",
       "<table border=\"1\" class=\"dataframe\">\n",
       "  <thead>\n",
       "    <tr style=\"text-align: right;\">\n",
       "      <th></th>\n",
       "      <th>Country Code</th>\n",
       "      <th>Continent_Code</th>\n",
       "      <th>internet_users_per_100</th>\n",
       "      <th>Math</th>\n",
       "      <th>Reading</th>\n",
       "      <th>Science</th>\n",
       "    </tr>\n",
       "  </thead>\n",
       "  <tbody>\n",
       "    <tr>\n",
       "      <th>0</th>\n",
       "      <td>ALB</td>\n",
       "      <td>EU</td>\n",
       "      <td>63.252933</td>\n",
       "      <td>413.1570</td>\n",
       "      <td>405.2588</td>\n",
       "      <td>427.2250</td>\n",
       "    </tr>\n",
       "    <tr>\n",
       "      <th>1</th>\n",
       "      <td>ARE</td>\n",
       "      <td>AS</td>\n",
       "      <td>90.500000</td>\n",
       "      <td>427.4827</td>\n",
       "      <td>433.5423</td>\n",
       "      <td>436.7311</td>\n",
       "    </tr>\n",
       "    <tr>\n",
       "      <th>2</th>\n",
       "      <td>ARG</td>\n",
       "      <td>SA</td>\n",
       "      <td>68.043064</td>\n",
       "      <td>409.0333</td>\n",
       "      <td>425.3031</td>\n",
       "      <td>432.2262</td>\n",
       "    </tr>\n",
       "    <tr>\n",
       "      <th>3</th>\n",
       "      <td>AUS</td>\n",
       "      <td>OC</td>\n",
       "      <td>84.560519</td>\n",
       "      <td>493.8962</td>\n",
       "      <td>502.9006</td>\n",
       "      <td>509.9939</td>\n",
       "    </tr>\n",
       "    <tr>\n",
       "      <th>4</th>\n",
       "      <td>AUT</td>\n",
       "      <td>EU</td>\n",
       "      <td>83.940142</td>\n",
       "      <td>496.7423</td>\n",
       "      <td>484.8656</td>\n",
       "      <td>495.0375</td>\n",
       "    </tr>\n",
       "  </tbody>\n",
       "</table>\n",
       "</div>"
      ],
      "text/plain": [
       "  Country Code Continent_Code  internet_users_per_100      Math   Reading  \\\n",
       "0          ALB             EU               63.252933  413.1570  405.2588   \n",
       "1          ARE             AS               90.500000  427.4827  433.5423   \n",
       "2          ARG             SA               68.043064  409.0333  425.3031   \n",
       "3          AUS             OC               84.560519  493.8962  502.9006   \n",
       "4          AUT             EU               83.940142  496.7423  484.8656   \n",
       "\n",
       "    Science  \n",
       "0  427.2250  \n",
       "1  436.7311  \n",
       "2  432.2262  \n",
       "3  509.9939  \n",
       "4  495.0375  "
      ]
     },
     "execution_count": 150,
     "metadata": {},
     "output_type": "execute_result"
    }
   ],
   "source": [
    "pisa = pd.read_excel(\"2015 PISA Test.xlsx\")\n",
    "pisa.head()"
   ]
  },
  {
   "cell_type": "code",
   "execution_count": 152,
   "id": "42f744c3",
   "metadata": {},
   "outputs": [
    {
     "data": {
      "text/html": [
       "<div>\n",
       "<style scoped>\n",
       "    .dataframe tbody tr th:only-of-type {\n",
       "        vertical-align: middle;\n",
       "    }\n",
       "\n",
       "    .dataframe tbody tr th {\n",
       "        vertical-align: top;\n",
       "    }\n",
       "\n",
       "    .dataframe thead tr th {\n",
       "        text-align: left;\n",
       "    }\n",
       "\n",
       "    .dataframe thead tr:last-of-type th {\n",
       "        text-align: right;\n",
       "    }\n",
       "</style>\n",
       "<table border=\"1\" class=\"dataframe\">\n",
       "  <thead>\n",
       "    <tr>\n",
       "      <th></th>\n",
       "      <th colspan=\"8\" halign=\"left\">internet_users_per_100</th>\n",
       "      <th colspan=\"2\" halign=\"left\">Math</th>\n",
       "      <th>...</th>\n",
       "      <th colspan=\"2\" halign=\"left\">Reading</th>\n",
       "      <th colspan=\"8\" halign=\"left\">Science</th>\n",
       "    </tr>\n",
       "    <tr>\n",
       "      <th></th>\n",
       "      <th>count</th>\n",
       "      <th>mean</th>\n",
       "      <th>std</th>\n",
       "      <th>min</th>\n",
       "      <th>25%</th>\n",
       "      <th>50%</th>\n",
       "      <th>75%</th>\n",
       "      <th>max</th>\n",
       "      <th>count</th>\n",
       "      <th>mean</th>\n",
       "      <th>...</th>\n",
       "      <th>75%</th>\n",
       "      <th>max</th>\n",
       "      <th>count</th>\n",
       "      <th>mean</th>\n",
       "      <th>std</th>\n",
       "      <th>min</th>\n",
       "      <th>25%</th>\n",
       "      <th>50%</th>\n",
       "      <th>75%</th>\n",
       "      <th>max</th>\n",
       "    </tr>\n",
       "    <tr>\n",
       "      <th>Continent_Code</th>\n",
       "      <th></th>\n",
       "      <th></th>\n",
       "      <th></th>\n",
       "      <th></th>\n",
       "      <th></th>\n",
       "      <th></th>\n",
       "      <th></th>\n",
       "      <th></th>\n",
       "      <th></th>\n",
       "      <th></th>\n",
       "      <th></th>\n",
       "      <th></th>\n",
       "      <th></th>\n",
       "      <th></th>\n",
       "      <th></th>\n",
       "      <th></th>\n",
       "      <th></th>\n",
       "      <th></th>\n",
       "      <th></th>\n",
       "      <th></th>\n",
       "      <th></th>\n",
       "    </tr>\n",
       "  </thead>\n",
       "  <tbody>\n",
       "    <tr>\n",
       "      <th>AF</th>\n",
       "      <td>2.0</td>\n",
       "      <td>43.359918</td>\n",
       "      <td>7.297226</td>\n",
       "      <td>38.200000</td>\n",
       "      <td>40.779959</td>\n",
       "      <td>43.359918</td>\n",
       "      <td>45.939877</td>\n",
       "      <td>48.519836</td>\n",
       "      <td>2.0</td>\n",
       "      <td>363.212100</td>\n",
       "      <td>...</td>\n",
       "      <td>358.256450</td>\n",
       "      <td>361.0555</td>\n",
       "      <td>2.0</td>\n",
       "      <td>381.074250</td>\n",
       "      <td>7.536556</td>\n",
       "      <td>375.7451</td>\n",
       "      <td>378.409675</td>\n",
       "      <td>381.07425</td>\n",
       "      <td>383.738825</td>\n",
       "      <td>386.4034</td>\n",
       "    </tr>\n",
       "    <tr>\n",
       "      <th>AS</th>\n",
       "      <td>17.0</td>\n",
       "      <td>68.455613</td>\n",
       "      <td>21.086060</td>\n",
       "      <td>21.976068</td>\n",
       "      <td>50.300000</td>\n",
       "      <td>74.000000</td>\n",
       "      <td>84.948353</td>\n",
       "      <td>92.884826</td>\n",
       "      <td>17.0</td>\n",
       "      <td>466.216647</td>\n",
       "      <td>...</td>\n",
       "      <td>508.690500</td>\n",
       "      <td>535.1002</td>\n",
       "      <td>17.0</td>\n",
       "      <td>467.945847</td>\n",
       "      <td>56.671371</td>\n",
       "      <td>386.4854</td>\n",
       "      <td>417.611200</td>\n",
       "      <td>456.48360</td>\n",
       "      <td>523.277400</td>\n",
       "      <td>555.5747</td>\n",
       "    </tr>\n",
       "    <tr>\n",
       "      <th>EU</th>\n",
       "      <td>37.0</td>\n",
       "      <td>77.274888</td>\n",
       "      <td>12.425773</td>\n",
       "      <td>53.744979</td>\n",
       "      <td>68.632900</td>\n",
       "      <td>76.184000</td>\n",
       "      <td>87.479056</td>\n",
       "      <td>98.200000</td>\n",
       "      <td>37.0</td>\n",
       "      <td>477.981449</td>\n",
       "      <td>...</td>\n",
       "      <td>499.814600</td>\n",
       "      <td>526.4247</td>\n",
       "      <td>37.0</td>\n",
       "      <td>478.299381</td>\n",
       "      <td>34.450616</td>\n",
       "      <td>383.6824</td>\n",
       "      <td>460.774900</td>\n",
       "      <td>490.22500</td>\n",
       "      <td>501.936900</td>\n",
       "      <td>534.1937</td>\n",
       "    </tr>\n",
       "    <tr>\n",
       "      <th>OC</th>\n",
       "      <td>2.0</td>\n",
       "      <td>86.391704</td>\n",
       "      <td>2.589686</td>\n",
       "      <td>84.560519</td>\n",
       "      <td>85.476112</td>\n",
       "      <td>86.391704</td>\n",
       "      <td>87.307296</td>\n",
       "      <td>88.222889</td>\n",
       "      <td>2.0</td>\n",
       "      <td>494.559750</td>\n",
       "      <td>...</td>\n",
       "      <td>507.678175</td>\n",
       "      <td>509.2707</td>\n",
       "      <td>2.0</td>\n",
       "      <td>511.648700</td>\n",
       "      <td>2.340241</td>\n",
       "      <td>509.9939</td>\n",
       "      <td>510.821300</td>\n",
       "      <td>511.64870</td>\n",
       "      <td>512.476100</td>\n",
       "      <td>513.3035</td>\n",
       "    </tr>\n",
       "    <tr>\n",
       "      <th>SA</th>\n",
       "      <td>7.0</td>\n",
       "      <td>60.180494</td>\n",
       "      <td>9.772455</td>\n",
       "      <td>40.900000</td>\n",
       "      <td>57.116462</td>\n",
       "      <td>64.289000</td>\n",
       "      <td>66.321532</td>\n",
       "      <td>69.198471</td>\n",
       "      <td>7.0</td>\n",
       "      <td>402.887700</td>\n",
       "      <td>...</td>\n",
       "      <td>431.922700</td>\n",
       "      <td>458.5709</td>\n",
       "      <td>7.0</td>\n",
       "      <td>421.747186</td>\n",
       "      <td>18.470319</td>\n",
       "      <td>396.6836</td>\n",
       "      <td>408.205450</td>\n",
       "      <td>424.59050</td>\n",
       "      <td>433.794600</td>\n",
       "      <td>446.9561</td>\n",
       "    </tr>\n",
       "  </tbody>\n",
       "</table>\n",
       "<p>5 rows × 32 columns</p>\n",
       "</div>"
      ],
      "text/plain": [
       "               internet_users_per_100                                   \\\n",
       "                                count       mean        std        min   \n",
       "Continent_Code                                                           \n",
       "AF                                2.0  43.359918   7.297226  38.200000   \n",
       "AS                               17.0  68.455613  21.086060  21.976068   \n",
       "EU                               37.0  77.274888  12.425773  53.744979   \n",
       "OC                                2.0  86.391704   2.589686  84.560519   \n",
       "SA                                7.0  60.180494   9.772455  40.900000   \n",
       "\n",
       "                                                            Math              \\\n",
       "                      25%        50%        75%        max count        mean   \n",
       "Continent_Code                                                                 \n",
       "AF              40.779959  43.359918  45.939877  48.519836   2.0  363.212100   \n",
       "AS              50.300000  74.000000  84.948353  92.884826  17.0  466.216647   \n",
       "EU              68.632900  76.184000  87.479056  98.200000  37.0  477.981449   \n",
       "OC              85.476112  86.391704  87.307296  88.222889   2.0  494.559750   \n",
       "SA              57.116462  64.289000  66.321532  69.198471   7.0  402.887700   \n",
       "\n",
       "                ...     Reading           Science                         \\\n",
       "                ...         75%       max   count        mean        std   \n",
       "Continent_Code  ...                                                        \n",
       "AF              ...  358.256450  361.0555     2.0  381.074250   7.536556   \n",
       "AS              ...  508.690500  535.1002    17.0  467.945847  56.671371   \n",
       "EU              ...  499.814600  526.4247    37.0  478.299381  34.450616   \n",
       "OC              ...  507.678175  509.2707     2.0  511.648700   2.340241   \n",
       "SA              ...  431.922700  458.5709     7.0  421.747186  18.470319   \n",
       "\n",
       "                                                                       \n",
       "                     min         25%        50%         75%       max  \n",
       "Continent_Code                                                         \n",
       "AF              375.7451  378.409675  381.07425  383.738825  386.4034  \n",
       "AS              386.4854  417.611200  456.48360  523.277400  555.5747  \n",
       "EU              383.6824  460.774900  490.22500  501.936900  534.1937  \n",
       "OC              509.9939  510.821300  511.64870  512.476100  513.3035  \n",
       "SA              396.6836  408.205450  424.59050  433.794600  446.9561  \n",
       "\n",
       "[5 rows x 32 columns]"
      ]
     },
     "execution_count": 152,
     "metadata": {},
     "output_type": "execute_result"
    }
   ],
   "source": [
    "pisa.groupby(\"Continent_Code\").describe()"
   ]
  },
  {
   "cell_type": "code",
   "execution_count": 159,
   "id": "fbbe7973",
   "metadata": {},
   "outputs": [
    {
     "data": {
      "text/plain": [
       "0    413.1570\n",
       "4    496.7423\n",
       "5    506.9844\n",
       "Name: Math, dtype: float64"
      ]
     },
     "execution_count": 159,
     "metadata": {},
     "output_type": "execute_result"
    }
   ],
   "source": [
    "asia = pisa[pisa[\"Continent_Code\"]==\"AS\"][\"Math\"]\n",
    "math.head(3)"
   ]
  },
  {
   "cell_type": "code",
   "execution_count": 160,
   "id": "7bf0add3",
   "metadata": {},
   "outputs": [
    {
     "data": {
      "text/plain": [
       "0    413.1570\n",
       "4    496.7423\n",
       "5    506.9844\n",
       "Name: Math, dtype: float64"
      ]
     },
     "execution_count": 160,
     "metadata": {},
     "output_type": "execute_result"
    }
   ],
   "source": [
    "europe = pisa[pisa[\"Continent_Code\"]==\"EU\"][\"Math\"]\n",
    "math.head(3)"
   ]
  },
  {
   "cell_type": "code",
   "execution_count": 162,
   "id": "ecf38357",
   "metadata": {},
   "outputs": [
    {
     "data": {
      "text/plain": [
       "Ttest_indResult(statistic=-0.8700553179679787, pvalue=0.38826888111307556)"
      ]
     },
     "execution_count": 162,
     "metadata": {},
     "output_type": "execute_result"
    }
   ],
   "source": [
    "indTest = stats.ttest_ind(asia, europe)\n",
    "indTest"
   ]
  },
  {
   "cell_type": "code",
   "execution_count": 164,
   "id": "0d52f0ff",
   "metadata": {},
   "outputs": [
    {
     "data": {
      "text/plain": [
       "0.38826888111307556"
      ]
     },
     "execution_count": 164,
     "metadata": {},
     "output_type": "execute_result"
    }
   ],
   "source": [
    "p_value = indTest.pvalue\n",
    "p_value"
   ]
  },
  {
   "cell_type": "code",
   "execution_count": 165,
   "id": "8050a048",
   "metadata": {},
   "outputs": [
    {
     "name": "stdout",
     "output_type": "stream",
     "text": [
      "At 0.05 level of significance, we fail to reject the null hypothesis.\n"
     ]
    }
   ],
   "source": [
    "alpha = 0.05\n",
    "\n",
    "if p_value<alpha:\n",
    "    print('At {} level of significance, we can reject the null hypothesis in favor of alternative hypothesis.'.format(alpha))\n",
    "else:\n",
    "    print('At {} level of significance, we fail to reject the null hypothesis.'.format(alpha))"
   ]
  },
  {
   "cell_type": "code",
   "execution_count": 201,
   "id": "17ba163a",
   "metadata": {},
   "outputs": [
    {
     "data": {
      "text/html": [
       "<div>\n",
       "<style scoped>\n",
       "    .dataframe tbody tr th:only-of-type {\n",
       "        vertical-align: middle;\n",
       "    }\n",
       "\n",
       "    .dataframe tbody tr th {\n",
       "        vertical-align: top;\n",
       "    }\n",
       "\n",
       "    .dataframe thead th {\n",
       "        text-align: right;\n",
       "    }\n",
       "</style>\n",
       "<table border=\"1\" class=\"dataframe\">\n",
       "  <thead>\n",
       "    <tr style=\"text-align: right;\">\n",
       "      <th></th>\n",
       "      <th>Country Code</th>\n",
       "      <th>Continent_Code</th>\n",
       "      <th>internet_users_per_100</th>\n",
       "      <th>Math</th>\n",
       "      <th>Reading</th>\n",
       "      <th>Science</th>\n",
       "    </tr>\n",
       "  </thead>\n",
       "  <tbody>\n",
       "    <tr>\n",
       "      <th>0</th>\n",
       "      <td>ALB</td>\n",
       "      <td>EU</td>\n",
       "      <td>63.252933</td>\n",
       "      <td>413.1570</td>\n",
       "      <td>405.2588</td>\n",
       "      <td>427.2250</td>\n",
       "    </tr>\n",
       "    <tr>\n",
       "      <th>1</th>\n",
       "      <td>ARE</td>\n",
       "      <td>AS</td>\n",
       "      <td>90.500000</td>\n",
       "      <td>427.4827</td>\n",
       "      <td>433.5423</td>\n",
       "      <td>436.7311</td>\n",
       "    </tr>\n",
       "    <tr>\n",
       "      <th>4</th>\n",
       "      <td>AUT</td>\n",
       "      <td>EU</td>\n",
       "      <td>83.940142</td>\n",
       "      <td>496.7423</td>\n",
       "      <td>484.8656</td>\n",
       "      <td>495.0375</td>\n",
       "    </tr>\n",
       "  </tbody>\n",
       "</table>\n",
       "</div>"
      ],
      "text/plain": [
       "  Country Code Continent_Code  internet_users_per_100      Math   Reading  \\\n",
       "0          ALB             EU               63.252933  413.1570  405.2588   \n",
       "1          ARE             AS               90.500000  427.4827  433.5423   \n",
       "4          AUT             EU               83.940142  496.7423  484.8656   \n",
       "\n",
       "    Science  \n",
       "0  427.2250  \n",
       "1  436.7311  \n",
       "4  495.0375  "
      ]
     },
     "execution_count": 201,
     "metadata": {},
     "output_type": "execute_result"
    }
   ],
   "source": [
    "pisa_new=pisa[(pisa[\"Continent_Code\"]==\"EU\") | (pisa[\"Continent_Code\"]==\"AS\")]\n",
    "pisa_new.head(3)"
   ]
  },
  {
   "cell_type": "code",
   "execution_count": 200,
   "id": "407cae04",
   "metadata": {},
   "outputs": [
    {
     "data": {
      "image/png": "[encoded data removed]",
      "text/plain": [
       "<Figure size 432x288 with 1 Axes>"
      ]
     },
     "metadata": {
      "needs_background": "light"
     },
     "output_type": "display_data"
    }
   ],
   "source": [
    "sns.boxplot(x=\"Continent_Code\", y=\"Math\", data=pisa_new);"
   ]
  }
 ],
 "metadata": {
  "kernelspec": {
   "display_name": "Python 3 (ipykernel)",
   "language": "python",
   "name": "python3"
  },
  "language_info": {
   "codemirror_mode": {
    "name": "ipython",
    "version": 3
   },
   "file_extension": ".py",
   "mimetype": "text/x-python",
   "name": "python",
   "nbconvert_exporter": "python",
   "pygments_lexer": "ipython3",
   "version": "3.9.12"
  }
 },
 "nbformat": 4,
 "nbformat_minor": 5
}
